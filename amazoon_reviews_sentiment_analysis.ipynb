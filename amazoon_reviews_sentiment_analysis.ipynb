{
  "cells": [
    {
      "cell_type": "markdown",
      "metadata": {
        "id": "ZtpTCrryhYqJ"
      },
      "source": [
        "####0. Setup"
      ]
    },
    {
      "cell_type": "code",
      "execution_count": 3,
      "metadata": {
        "id": "ZWyK5K2VlaNj"
      },
      "outputs": [],
      "source": [
        "import nltk\n",
        "import pickle\n",
        "import numpy as np\n",
        "import tensorflow as tf\n",
        "\n",
        "from tensorflow import keras\n",
        "from collections import Counter\n",
        "from nltk.corpus import stopwords\n",
        "from collections import OrderedDict"
      ]
    },
    {
      "cell_type": "markdown",
      "metadata": {
        "id": "hIcKsV0ohpZD"
      },
      "source": [
        "#####1. Load Data"
      ]
    },
    {
      "cell_type": "code",
      "execution_count": 5,
      "metadata": {
        "id": "zE9-hIUqiro_"
      },
      "outputs": [],
      "source": [
        "import os\n",
        "train_data_path = os.path.join(\"./\", \"amazon_review_polarity_csv\", \"train.csv\")\n",
        "test_data_path  = os.path.join(\"./\", \"amazon_review_polarity_csv\", \"test.csv\")"
      ]
    },
    {
      "cell_type": "code",
      "execution_count": 20,
      "metadata": {
        "colab": {
          "base_uri": "https://localhost:8080/"
        },
        "id": "c6qBThUgnto-",
        "outputId": "f34f39fb-634c-47ef-c38d-f351636e5975"
      },
      "outputs": [
        {
          "name": "stderr",
          "output_type": "stream",
          "text": [
            "[nltk_data] Downloading package stopwords to /root/nltk_data...\n",
            "[nltk_data]   Unzipping corpora/stopwords.zip.\n"
          ]
        },
        {
          "data": {
            "text/plain": [
              "True"
            ]
          },
          "execution_count": 20,
          "metadata": {},
          "output_type": "execute_result"
        }
      ],
      "source": [
        "nltk.download(\"stopwords\")"
      ]
    },
    {
      "cell_type": "code",
      "execution_count": 14,
      "metadata": {
        "colab": {
          "base_uri": "https://localhost:8080/"
        },
        "id": "rot7aSLMnlis",
        "outputId": "a856e482-c7c1-49e3-b759-b919bf949fb0"
      },
      "outputs": [
        {
          "name": "stdout",
          "output_type": "stream",
          "text": [
            "<class 'tensorflow.python.data.ops.dataset_ops.PrefetchDataset'>\n"
          ]
        }
      ],
      "source": [
        "## we can use pandas library to load train and test datasets, but since the datasets are quite big, a more scalable approach\n",
        "## is required to load from disk as necessary. The tf.data module provides methods to extract records from one or more CSV files.\n",
        "\n",
        "amazoon_batches = tf.data.experimental.make_csv_dataset(\n",
        "    train_data_path, batch_size=32, label_name='2', num_epochs=1, prefetch_buffer_size=1000,\n",
        ")\n",
        "\n",
        "print(type(amazoon_batches))"
      ]
    },
    {
      "cell_type": "code",
      "execution_count": 15,
      "metadata": {
        "colab": {
          "base_uri": "https://localhost:8080/"
        },
        "id": "TXE9jF16ntxK",
        "outputId": "bd4e7010-853a-4ddb-be9a-953c20924b67"
      },
      "outputs": [
        {
          "name": "stdout",
          "output_type": "stream",
          "text": [
            "'sentiment': [2 1 2 2 1 1 1 1 2 1 1 2 1 1 2 1 2 1 2 1 2 1 2 2 2 1 1 2 2 2 2 2]\n",
            "features:\n",
            "  'Stuning even for the non-gamer': [b'One of the best!' b'Not a Halti'\n",
            " b'Thought-provoking and at times chilling' b'Fantastic' b'Has NO value!'\n",
            " b'i have get my order' b'Nice camera, when it works'\n",
            " b\"2 Unlimited is back, but not as you'd expect them to.\" b'Great album'\n",
            " b'Flimsy materials, potentially dangerous item'\n",
            " b\"Parents - Don't Let Your Kids Watch This Movie\" b\"Gon' hed Musiq\"\n",
            " b'Unidentified Reading Object' b'Not 3D' b'Fantastic'\n",
            " b\"The Book is WAY Better..and That's all You Really Need to Know!\"\n",
            " b\"Good Enough I'm Looking for the Author\" b'Kiddie Fodder...'\n",
            " b'She is a good singer.' b'Gardening lawn book'\n",
            " b'QUIRKY, ENERGETIC, BLAZING PULSE-POUNDER' b'My Review'\n",
            " b'scarlet letter' b'The most entertaining film of the year'\n",
            " b'Where Is The DVD?'\n",
            " b'Motorola Razr V3, V3i, V3c, Slvr L7, L6, L2 Pebl U6, V190, Mpx200, V360, V323, V325 - Ch710 OEM Original Auto Car Charger Syn084'\n",
            " b'on website it says twin but actual size is single.'\n",
            " b'Witty, charming and deliciously hillarious!' b'Great story !'\n",
            " b'The most charming, captivating work from LJ Smith!'\n",
            " b'This is an amazing book.' b'classic']\n",
            "  'This sound track was beautiful! It paints the senery in your mind so well I would recomend it even to people who hate vid. game music! I have played the game Chrono Cross but out of all of the games I have ever played it has the best music! It backs away from crude keyboarding and takes a fresher step with grate guitars and soulful orchestras. It would impress anyone who cares to listen! ^_^': [b\"Some people call it cheap and flimsy. But I call it thin and delicate. and that's how it should be when you're opening a wine bottle. It is extremely easy to pop out the cork with this corkscrew. It also works with synthetic corks. No extra strength required at all. Believe me you'll be amazed after using this product. It comes with a nice container, which is a bonus.\"\n",
            " b'Ordered a Halti training collar and received, on time, a Holt collar. Called seller, not respones. \"Returns require prior authorization code,\" but request was routed to a \"mailbox full\" number. No follow up from seller.'\n",
            " b\"Many have heard allusions to Big Brother through television or movies. Many have heard that they should read this book because it's a classic, or because of the amazing predictions from 1949 about life in the future. Everyone should read this book.If you read it hoping to find action, or hoping to find a tie to the world as we know it, you most likely won't comprehend the actual meaning of the words. You'll be most successful if you consider what we have today compared to what we had when Orwell wrote the book in 1949. Think of how much the world has changed, and how far there is left to go.Read this book, and every chapter think of the relationship to everyday life. This isn't a book that should be skimmed. Think of the implications of Orwell's predictions. Realize that it could happen.Is it a novel, or is it possible? Are we starting to live in Orwell's world?\"\n",
            " b'Lurpak is far better than any other butter out there. Be glad you can buy it in the USA! Creamy, tasty and just plain good.'\n",
            " b'If your studying herbs or medicinal plants this book should NOT be on your list of books to own. IT IS WORTHLESS! It is a Pagan Religion Book. Plain and simple! In my opinion it is for the study of WITCHCRAFT and the like.'\n",
            " b'I never got the battery and im still waiting on it, I want to know whats going to happen cause im still waiting'\n",
            " b\"I love the features and optics of this camera. I love everything about it, except that it really doesn't work and their service is terrible. Many people posted about the humming sound -- I didn't have that problem. But the electrical system was intermittent from the time I got the camera. I've sent it to them three times, and each time they repair it, or claim to. Now it is out of warranty and the battery still doesn't work. So I'll have to buy a new camera and hope that you don't make the same mistake I did -- go with a different camera.\"\n",
            " b'They\\'re back, not as Anita & Ray but as Romy and Marion. The song \"Wanna Get Up\" in (my) opinion is not as good as other tracks released by the band, since there\\'s no techno-rapping by Ray, and not as good vocals & lyrics. On previous 2 Unlimited tracks Ray & Anita wrote most lyrics and sung well. On \"Wanna Get Up\" vocals are written by other producers. Struggling to make the song good, on many European charts it never made it into the top five. The single includes three remixes, the \"SASH! Extended Edit\" is the best remix, and song, which give the single the two of five stars. It is better than the original version. The other two remixes are extrermely poor and do not relate with the type of music 2 Unlimited sings.'\n",
            " b'For anyone who considers them in the \"boyband\" category, they were around making (playing the instruments, and writing the songs) their music long before the current craze; besides, if it\\'s all about the music, it\\'s a different sound, though still firmly in pop. Most of the CD flows pretty easily, the lyrics actually say something, and avoid \"bad/sad\"-type cheesy rhymes. Faded and No One Does It Better are far and away the best, but that doesn\\'t mean the others aren\\'t good. Looking for a strong sophomore effort to keep Canada on the music map.. (I know Vancouver puts everyone in a good mood, but maybe next time with more than one song in a minor key!?)'\n",
            " b'Even though this is rated to hold up to 2000 lbs. I would not trust it to last very long. The nylon and ropes that this comes with are clearly very low quality. Some of the ropes even showed signs of fraying straight out of box. Cannot recommend this item.'\n",
            " b\"Someone I know bought this in a discount rack, thinking it was what it pretends to be -- a children's holiday cartoon. Nothing could be further from the truth. I could not believe what a disgusting piece of filth it is, full of perverted sexual innuendo. Movies like this should not be marketed toward children, and no matter what the rating, that is who they were trying to target by making it look like a children's holiday cartoon. It should be kept in the back room of video stores with the restriction that only adults could see it (and then only if they have absolutely no taste nor moral fortitude whatsoever). I can't give this as strongly negative a review as it deserves! I only gave it one star because they wouldn't let me give it none.\"\n",
            " b\"I love this CD..I am a big Musiq fan.. This cd is good from beginning to end. The musiq is very pretty..and what I love about him is that he is so creative he talks about things other people really dontMy favorite tracks are#1 Soulstar#3 Womanolopy#6 whoknows..very pretty track#7 babymother...I love this track#12 Her#13 whereareyougoingall the real Musiq fans stand up..and go get my boy's cd..its tight..it deserves more than 5 stars\"\n",
            " b'I approached this book with a fairly open mind, expecting to read an interesting story about the strange events of 1967. Unfortunately, Mr. Keel\\'s tendency to ramble and a strange, albeit somewhat fascinating, mixture of conspiracy theories, \"ufo\" sightings and Men in Black stories made the book an incoherent mess. The book begins and ends with the events of Point Pleasant, and spends the middle attempting to connect those events with literally hundreds of other experiences throughout the world and throughout history. ...'\n",
            " b'THis company advertised this as a 3D movie. When I received it it was only a Blu-ray. They told me I would have to ship it back to them to prove it. I was very upset and they are horribel to work with.'\n",
            " b\"Love this product, makes my skin look and feel great! It's easy to use, no mess no fuss. I don't use it everyday because I like to save it for the weekends because it makes my skin feel so good.\"\n",
            " b\"Don't waste your money on a DVD unless: 1) You just want to see beautiful Italian scenery (and it is gorgeous!) or 2) You actually enjoy watching a whiny, sniveling, pathetic female character waiting for a man to fulfill her life. Doubt if the author was thrilled with this version of her story. BUY THE BOOK!!! It's a great read.\"\n",
            " b'Help! My cousin in Brazil is trying to contact the author of this book. The letter he sent was returned to him as the address being no good. He had gotten the address out of the back of the book. Does anyone know how to contact the author?'\n",
            " b\"Crap, crap, crap. Bad acting, big explosions, and video game CGI a good movie does not make. Like a 2 hour Hasbro toy commercial. This film made Star Wars Episode 1 with Jar Jar Binks seem like an Academy Award worthy film. And I'm a Superhero/Godzilla/Monster geek...this is just awful...terrible. At least the first one was semi-watchable--and where's Megan Fox? That would have been the only redeeming quality in this junk-fest...I mean alien robots who change into cars and trucks??? It's a movie based on a TOY for God's sake! A bad toy made into an even worse film. Avoid like The Plague.\"\n",
            " b'Stacie Orrico is a good singer. She has a God given talent. Even though her ways have changed she always has the ability to sing.'\n",
            " b'Four pages of the book was missing. It just happened to be the formulas that my husband needed. Fortunately he was able to copy our friends book. But I will hesitate to buy another book like this again.'\n",
            " b\"To the beat of an incessant techno/deephouse soundtrack, Lola runs, and then runs some more. I couldn't possibly think of another movie with such sheer cinematic buzz, it's cut like an MTV video: blink and you may miss a visual gag.The theme is doozy but interesting -- a slicing of the same reality in time into three perspectives. Blending an innovative mix of animation, still photography, slow motion, and normal cinematography, it illustrates how the smallest change in what a person does can alter the rest of their life, not to mention the lives of others, including complete strangers they pass on the street.Ironic, creative, and simply riveting -- a fabulous kinetic pleasure of a rental. The breathless high-octane soundtrack should be in your dance collections too.\"\n",
            " b\"This book was very interesting, but I wouldn't consider it a Sci-Fi. It takes place in the future, and firemen don't put out fires, they start them. Its about a fireman named Montag who starts to question the law that says you are not aloud to have books, and his adventure after. It was a difficult book to read, but there were some good vocabulary terms. It was also very descriptive. On a scale one to ten I would give it a six. It was a very creative story, but I am not a fan of many futuristic books. Kids under the sixth grade should not read this because they may get confused or not understand some of the words in the book.\"\n",
            " b'this novel is of course set in england in the eighteeth centuryher a young woman jailed for crimes she commted outside themarriage was branded with a scarlett letter over her bossom.this was tipical of the ear and time.'\n",
            " b'This movie was so entertaining. I was in stitches from laughing so much - it was so funny and enjoyable. Diane Lane was incredible in this film. She is such a good actress and here she proves that she is funny as well. This is one of the most entertaining films I have seen all year. Brilliant stuff!'\n",
            " b'How can such a beautifully filmed movie directed by David Lean not yet be available on DVD? The superior quality of DVD over video tape would lift this film to the level of how it played on the big screen when first released. The storms, the Irish coast and just about every other scene filmed would look so much better on DVD. John Mills gave his finest performance in this movie and won a deserved Oscar.It would be a fitting epitaph to his memory if the film distributors reissued Ryans Daughter in DVD. Nearly all of David Leans other films are available in DVD format. Why not this epic film?'\n",
            " b\"I have been looking for this adapter for some time now and found it at Amazon.com. The price is great, arrived before schedule, in new condition but did not work in my car. Everything fit properly but it would not charge my phone - I did not notice an illuminated LED which would indicate power input. In all fairness, my cigarette lighter may be on the brink and therefore not transferring current/voltage; I doubt it though. I had already thrown away the packaging so I couldn't return it so now I'm stuck with it.Maybe once I insert it into another vehicle, it may work. For now, this is it.\"\n",
            " b'i dont know why these guys are trying to cheat. i paid full amount and i was expected to receive a twin size airbed but when i opened it it is actual size is single sized matress! so this company is baad! will never suggest it to someone.'\n",
            " b'After reading Tess of the Durbervilles I could not help but feel a little disapointed when I finished it. I couldn\\'t tear myself away from it. I absolutely adored Tess\\'s manners and her \"cousins\" annnoying manner of Tess\\'s sweet temper. I always wondered wether if Tess and he would get together throughout the entire novel.Boy was I surprised!'\n",
            " b'The performance of all actors, especially Gerard Depardieu is top-notch. The story has a sad ending, but thought provoking. The excitement, energy and the fierce determination of Jean de Florette is inspiring. This city dweller is so determined to succeed as a farmer that he will give up under no circumstance. Beware that the French spoken in this movie is not the Parisian French, the Provence accent makes it very hard to understand, in case you are a student of French. (There are French subtitles too, besides English, so that helps a lot).'\n",
            " b\"The plot and characters are incredible. Everyone that likes the supernatural should read this book, and all the other Night World books. I think I'm in love with Ash!\"\n",
            " b'This book was required summer reading 2 years ago for my english II AP class. I thought it was really an amazing book. I loved the main character how strong willed she was even though she was more human and not cave man. I thought Auel did a great job writing it, but sometimes she was too descriptive about setting of the story. Description and imagery is good, but too much of it takes away from the story. I have read the rest of the series, but if you like this book you should read the others that go along with this series.thank you for your time,Loran'\n",
            " b\"Thuvia, Maid of Mars is classic pulp science fiction.Our hero is framed for the abduction of princess Thuvia, so he goes to rescue her and clear his name.It's also a pretty classic romance plot, with the hero and heroine in love with each other, but unsure how the other feels, and societal/political conventions standing in their way. *shhhh... don't tell.\"]\n"
          ]
        }
      ],
      "source": [
        "for feature_batch, label_batch in amazoon_batches.take(1):\n",
        "    print(\"'sentiment': {}\".format(label_batch))\n",
        "    print(\"features:\")\n",
        "    for key, value in feature_batch.items():\n",
        "        print(\"  {!r:20s}: {}\".format(key, value))"
      ]
    },
    {
      "cell_type": "markdown",
      "metadata": {
        "id": "yNezDJibpt1V"
      },
      "source": [
        "#####2. Process Dataset"
      ]
    },
    {
      "cell_type": "code",
      "execution_count": 16,
      "metadata": {
        "id": "h-S-y_33ntuZ"
      },
      "outputs": [],
      "source": [
        "@tf.function\n",
        "def preprocess(features_batch, labels_batch):\n",
        "    features_name = list(features_batch.keys())    \n",
        "    concat_texts = tf.strings.join(\n",
        "        [features_batch[name] for name in features_name], separator='<sep>')\n",
        "    \n",
        "    concat_texts = tf.strings.substr(concat_texts, 0, 1000)\n",
        "    concat_texts = tf.strings.lower(concat_texts)\n",
        "    concat_texts = tf.strings.regex_replace(concat_texts, '[^a-zA-Z0-9]', ' ')\n",
        "    concat_texts = tf.strings.regex_replace(concat_texts, r'\\b(' + r'|'.join(stopwords.words('english')) + r')\\b\\s*', \"\")\n",
        "    concat_texts = tf.strings.strip(concat_texts)\n",
        "    concat_texts = tf.strings.split(concat_texts)\n",
        "    concat_texts = concat_texts.to_tensor(default_value=\"<pad>\")\n",
        "    \n",
        "    concat_feature = OrderedDict([('concat_feature', concat_texts)])\n",
        "    \n",
        "    return concat_feature, labels_batch"
      ]
    },
    {
      "cell_type": "code",
      "execution_count": 21,
      "metadata": {
        "colab": {
          "base_uri": "https://localhost:8080/"
        },
        "id": "pVsvirGYntsG",
        "outputId": "d2c053a6-0644-47ce-8c25-a7f1b7dbfbc9"
      },
      "outputs": [
        {
          "name": "stderr",
          "output_type": "stream",
          "text": [
            "WARNING:tensorflow:AutoGraph could not transform <function concat at 0x7ff89a6d3550> and will run it as-is.\n",
            "Cause: for/else statement not yet supported\n",
            "To silence this warning, decorate the function with @tf.autograph.experimental.do_not_convert\n"
          ]
        },
        {
          "name": "stdout",
          "output_type": "stream",
          "text": [
            "WARNING: AutoGraph could not transform <function concat at 0x7ff89a6d3550> and will run it as-is.\n",
            "Cause: for/else statement not yet supported\n",
            "To silence this warning, decorate the function with @tf.autograph.experimental.do_not_convert\n",
            "\n",
            "Vocabs were extracted successfuly.\n"
          ]
        }
      ],
      "source": [
        "vocabs = Counter()\n",
        "\n",
        "for feature_batch, label_batch in amazoon_batches.map(preprocess).take(100000):\n",
        "    for key, value in feature_batch.items():\n",
        "        for review in value:\n",
        "            vocabs.update(list(review.numpy()))\n",
        "            \n",
        "print(\"\\nVocabs were extracted successfuly.\")"
      ]
    },
    {
      "cell_type": "code",
      "execution_count": 24,
      "metadata": {
        "colab": {
          "base_uri": "https://localhost:8080/"
        },
        "id": "Rr7xFqHVp58A",
        "outputId": "d6c919df-7d6b-4d2d-cb57-6fe6b9a88060"
      },
      "outputs": [
        {
          "name": "stdout",
          "output_type": "stream",
          "text": [
            "[(b'<pad>', 159021656), (b'sep', 3200463), (b'book', 1757578), (b'one', 1230122), (b'great', 955496)]\n"
          ]
        }
      ],
      "source": [
        "#with open('vocabularies_data.pkl', 'wb') as vocabs_file:\n",
        "    ## we save the extracted vocabularies to disk to avoid this again later (since this costs some times)\n",
        "#    pickle.dump(vocabs, vocabs_file, pickle.HIGHEST_PROTOCOL)\n",
        "######################################################\n",
        "\n",
        "with open('vocabularies_data.pkl', 'rb') as vocabs_file:\n",
        "    ## load saved vocabs\n",
        "    vocabs = pickle.load(vocabs_file)\n",
        "    \n",
        "print(vocabs.most_common()[:5])"
      ]
    },
    {
      "cell_type": "code",
      "execution_count": 25,
      "metadata": {
        "id": "cEQyGoTltpF0"
      },
      "outputs": [],
      "source": [
        "## vocabs look-up table (convert each of words to an integer)\n",
        "\n",
        "vocab_size = 20000\n",
        "vocabs_short = vocabs.most_common()[:vocab_size]\n",
        "vocabs_short = tf.constant([word for word, count in vocabs_short])\n",
        "\n",
        "table_init = tf.lookup.KeyValueTensorInitializer(vocabs_short, tf.range(len(vocabs_short), dtype=tf.int64))\n",
        "\n",
        "num_oov_buckets = 1000\n",
        "body_table = tf.lookup.StaticVocabularyTable(table_init, num_oov_buckets=num_oov_buckets)"
      ]
    },
    {
      "cell_type": "code",
      "execution_count": 26,
      "metadata": {
        "colab": {
          "base_uri": "https://localhost:8080/"
        },
        "id": "dsPyqFXTt50J",
        "outputId": "dd45fc1e-33c0-41cb-f098-c28628416074"
      },
      "outputs": [
        {
          "data": {
            "text/plain": [
              "<tf.Tensor: shape=(4,), dtype=int64, numpy=array([  0,   5, 277,  20])>"
            ]
          },
          "execution_count": 26,
          "metadata": {},
          "output_type": "execute_result"
        }
      ],
      "source": [
        "body_table.lookup(tf.constant(['<pad>', 'good', 'terrible', 'best']))"
      ]
    },
    {
      "cell_type": "code",
      "execution_count": 27,
      "metadata": {
        "id": "FKkaZCeqt5x2"
      },
      "outputs": [],
      "source": [
        "# labels look-up table (using 0,1 instead of 1,2)\n",
        "\n",
        "old_lbls = tf.constant([1, 2], dtype=tf.int64)\n",
        "new_lbls = tf.constant([0, 1], dtype=tf.int64)\n",
        "\n",
        "table_init = tf.lookup.KeyValueTensorInitializer(old_lbls, new_lbls)\n",
        "num_oov_bucket = 1\n",
        "\n",
        "lbls_table = tf.lookup.StaticVocabularyTable(table_init, num_oov_bucket)"
      ]
    },
    {
      "cell_type": "code",
      "execution_count": 28,
      "metadata": {
        "id": "-TdvnTQGt5vl"
      },
      "outputs": [],
      "source": [
        "@tf.function\n",
        "def convert_text(features_batch, labels_batch):\n",
        "    \n",
        "    data_tensor = features_batch['concat_feature']   \n",
        "    converted_text = OrderedDict([('concat_feature', body_table.lookup(data_tensor))])\n",
        "    return converted_text, labels_batch\n",
        "\n",
        "@tf.function\n",
        "def convert_lbls(features_batch, labels_batch):\n",
        "    labels_batch = tf.cast(labels_batch, tf.int64)\n",
        "    return features_batch, lbls_table.lookup(labels_batch)\n",
        "\n",
        "\n",
        "@tf.function\n",
        "def full_preprocess(ds):\n",
        "    ds_clean = ds.map(preprocess)\n",
        "    ds_converted = ds_clean.map(convert_text)\n",
        "    ds_preprocessed = ds_converted.map(convert_lbls)\n",
        "    \n",
        "    return ds_preprocessed"
      ]
    },
    {
      "cell_type": "code",
      "execution_count": 29,
      "metadata": {
        "id": "Tf-wYIMot5tA"
      },
      "outputs": [],
      "source": [
        "train_ds = full_preprocess(amazoon_batches)\n",
        "train_ds = train_ds.shuffle(1024).prefetch(1)"
      ]
    },
    {
      "cell_type": "code",
      "execution_count": 30,
      "metadata": {
        "id": "pjBtaSFct5q0"
      },
      "outputs": [],
      "source": [
        "@tf.function\n",
        "def dict2tens(feature_batch, label_batch):\n",
        "    return feature_batch['concat_feature'], label_batch"
      ]
    },
    {
      "cell_type": "markdown",
      "metadata": {
        "id": "ho1-HDs5uzDb"
      },
      "source": [
        "#####3. Process Data"
      ]
    },
    {
      "cell_type": "code",
      "execution_count": 31,
      "metadata": {
        "id": "tWRahhR2t5PR"
      },
      "outputs": [],
      "source": [
        "embedding_dim = 65\n",
        "\n",
        "model = keras.models.Sequential([\n",
        "    keras.layers.Embedding(vocab_size + num_oov_buckets, embedding_dim),\n",
        "    keras.layers.GRU(64, return_sequences=True),\n",
        "    keras.layers.GRU(32),\n",
        "    keras.layers.Dense(1, activation='sigmoid')\n",
        "])"
      ]
    },
    {
      "cell_type": "code",
      "execution_count": 32,
      "metadata": {
        "colab": {
          "base_uri": "https://localhost:8080/"
        },
        "id": "aehR5GEHu6by",
        "outputId": "71f43479-1060-462c-f9dd-4ca026c00635"
      },
      "outputs": [
        {
          "name": "stdout",
          "output_type": "stream",
          "text": [
            "Model: \"sequential\"\n",
            "_________________________________________________________________\n",
            " Layer (type)                Output Shape              Param #   \n",
            "=================================================================\n",
            " embedding (Embedding)       (None, None, 65)          1365000   \n",
            "                                                                 \n",
            " gru (GRU)                   (None, None, 64)          25152     \n",
            "                                                                 \n",
            " gru_1 (GRU)                 (None, 32)                9408      \n",
            "                                                                 \n",
            " dense (Dense)               (None, 1)                 33        \n",
            "                                                                 \n",
            "=================================================================\n",
            "Total params: 1,399,593\n",
            "Trainable params: 1,399,593\n",
            "Non-trainable params: 0\n",
            "_________________________________________________________________\n"
          ]
        }
      ],
      "source": [
        "model.summary()"
      ]
    },
    {
      "cell_type": "code",
      "execution_count": 33,
      "metadata": {
        "id": "5LHDrL-5u6Wh"
      },
      "outputs": [],
      "source": [
        "earlly_stopping_cb = keras.callbacks.EarlyStopping(patience=3, restore_best_weights=True)\n",
        "checkpoint_cb = keras.callbacks.ModelCheckpoint(\"amazoon_review_model_chkpt\")\n",
        "\n",
        "model.compile(loss='binary_crossentropy', optimizer='adam', metrics=['accuracy'])"
      ]
    },
    {
      "cell_type": "code",
      "execution_count": 34,
      "metadata": {
        "colab": {
          "base_uri": "https://localhost:8080/"
        },
        "id": "utS56GRpu6UE",
        "outputId": "b09c994c-2e25-4eb9-dcba-7f4e54d5527f"
      },
      "outputs": [
        {
          "name": "stdout",
          "output_type": "stream",
          "text": [
            "Epoch 1/5\n",
            " 112495/Unknown - 1351s 12ms/step - loss: 0.2062 - accuracy: 0.9139"
          ]
        },
        {
          "name": "stderr",
          "output_type": "stream",
          "text": [
            "WARNING:tensorflow:Early stopping conditioned on metric `val_loss` which is not available. Available metrics are: loss,accuracy\n",
            "WARNING:absl:Found untraced functions such as gru_cell_layer_call_fn, gru_cell_layer_call_and_return_conditional_losses, gru_cell_1_layer_call_fn, gru_cell_1_layer_call_and_return_conditional_losses while saving (showing 4 of 4). These functions will not be directly callable after loading.\n"
          ]
        },
        {
          "name": "stdout",
          "output_type": "stream",
          "text": [
            "112500/112500 [==============================] - 1358s 12ms/step - loss: 0.2062 - accuracy: 0.9139\n",
            "Epoch 2/5\n",
            "112498/112500 [============================>.] - ETA: 0s - loss: 0.1684 - accuracy: 0.9346"
          ]
        },
        {
          "name": "stderr",
          "output_type": "stream",
          "text": [
            "WARNING:tensorflow:Early stopping conditioned on metric `val_loss` which is not available. Available metrics are: loss,accuracy\n",
            "WARNING:absl:Found untraced functions such as gru_cell_layer_call_fn, gru_cell_layer_call_and_return_conditional_losses, gru_cell_1_layer_call_fn, gru_cell_1_layer_call_and_return_conditional_losses while saving (showing 4 of 4). These functions will not be directly callable after loading.\n"
          ]
        },
        {
          "name": "stdout",
          "output_type": "stream",
          "text": [
            "112500/112500 [==============================] - 1325s 12ms/step - loss: 0.1684 - accuracy: 0.9346\n",
            "Epoch 3/5\n",
            "112499/112500 [============================>.] - ETA: 0s - loss: 0.1571 - accuracy: 0.9399"
          ]
        },
        {
          "name": "stderr",
          "output_type": "stream",
          "text": [
            "WARNING:tensorflow:Early stopping conditioned on metric `val_loss` which is not available. Available metrics are: loss,accuracy\n",
            "WARNING:absl:Found untraced functions such as gru_cell_layer_call_fn, gru_cell_layer_call_and_return_conditional_losses, gru_cell_1_layer_call_fn, gru_cell_1_layer_call_and_return_conditional_losses while saving (showing 4 of 4). These functions will not be directly callable after loading.\n"
          ]
        },
        {
          "name": "stdout",
          "output_type": "stream",
          "text": [
            "112500/112500 [==============================] - 1315s 12ms/step - loss: 0.1571 - accuracy: 0.9399\n",
            "Epoch 4/5\n",
            "112500/112500 [==============================] - ETA: 0s - loss: 0.1501 - accuracy: 0.9431"
          ]
        },
        {
          "name": "stderr",
          "output_type": "stream",
          "text": [
            "WARNING:tensorflow:Early stopping conditioned on metric `val_loss` which is not available. Available metrics are: loss,accuracy\n",
            "WARNING:absl:Found untraced functions such as gru_cell_layer_call_fn, gru_cell_layer_call_and_return_conditional_losses, gru_cell_1_layer_call_fn, gru_cell_1_layer_call_and_return_conditional_losses while saving (showing 4 of 4). These functions will not be directly callable after loading.\n"
          ]
        },
        {
          "name": "stdout",
          "output_type": "stream",
          "text": [
            "\b\b\b\b\b\b\b\b\b\b\b\b\b\b\b\b\b\b\b\b\b\b\b\b\b\b\b\b\b\b\b\b\b\b\b\b\b\b\b\b\b\b\b\b\b\b\b\b\b\b\b\b\b\b\b\b\b\b\b\b\b\b\b\b\b\b\b\b\b\b\b\b\b\b\b\b\b\b\b\b\b\b\b\b\b\b\b\b\b\b\r112500/112500 [==============================] - 1335s 12ms/step - loss: 0.1501 - accuracy: 0.9431\n",
            "Epoch 5/5\n",
            "112500/112500 [==============================] - ETA: 0s - loss: 0.1460 - accuracy: 0.9448"
          ]
        },
        {
          "name": "stderr",
          "output_type": "stream",
          "text": [
            "WARNING:tensorflow:Early stopping conditioned on metric `val_loss` which is not available. Available metrics are: loss,accuracy\n",
            "WARNING:absl:Found untraced functions such as gru_cell_layer_call_fn, gru_cell_layer_call_and_return_conditional_losses, gru_cell_1_layer_call_fn, gru_cell_1_layer_call_and_return_conditional_losses while saving (showing 4 of 4). These functions will not be directly callable after loading.\n"
          ]
        },
        {
          "name": "stdout",
          "output_type": "stream",
          "text": [
            "\b\b\b\b\b\b\b\b\b\b\b\b\b\b\b\b\b\b\b\b\b\b\b\b\b\b\b\b\b\b\b\b\b\b\b\b\b\b\b\b\b\b\b\b\b\b\b\b\b\b\b\b\b\b\b\b\b\b\b\b\b\b\b\b\b\b\b\b\b\b\b\b\b\b\b\b\b\b\b\b\b\b\b\b\b\b\b\b\b\b\r112500/112500 [==============================] - 1343s 12ms/step - loss: 0.1460 - accuracy: 0.9448\n"
          ]
        }
      ],
      "source": [
        "history = model.fit(train_ds.map(dict2tens), epochs=5, callbacks=[earlly_stopping_cb, checkpoint_cb])"
      ]
    },
    {
      "cell_type": "markdown",
      "metadata": {
        "id": "eg9_sJ6vOxxy"
      },
      "source": [
        "#####4. Evaluate the model"
      ]
    },
    {
      "cell_type": "code",
      "execution_count": 35,
      "metadata": {
        "colab": {
          "base_uri": "https://localhost:8080/"
        },
        "id": "Y0ETN5FIu6Rf",
        "outputId": "f15fffe9-95db-4674-d4fe-1c3a51bebc3d"
      },
      "outputs": [
        {
          "name": "stdout",
          "output_type": "stream",
          "text": [
            "112500/112500 [==============================] - 742s 7ms/step - loss: 0.1393 - accuracy: 0.9480\n"
          ]
        },
        {
          "data": {
            "text/plain": [
              "[0.13925893604755402, 0.947950541973114]"
            ]
          },
          "execution_count": 35,
          "metadata": {},
          "output_type": "execute_result"
        }
      ],
      "source": [
        "testing_batches = tf.data.experimental.make_csv_dataset(\n",
        "    train_data_path, batch_size=32, label_name='2', num_epochs=1, prefetch_buffer_size=1000,\n",
        ")\n",
        "\n",
        "test_ds = full_preprocess(testing_batches)\n",
        "test_ds = test_ds.shuffle(1024).prefetch(1)\n",
        "\n",
        "model.evaluate(test_ds.map(dict2tens))"
      ]
    },
    {
      "cell_type": "markdown",
      "metadata": {
        "id": "UneX8xdOUty5"
      },
      "source": [
        "#####5. Save the trained model."
      ]
    },
    {
      "cell_type": "code",
      "execution_count": 36,
      "metadata": {
        "id": "SF2rMwqAUwi4"
      },
      "outputs": [],
      "source": [
        "model.save(\"amazon-reviews-sentiment-analysis-classifier.h5\")"
      ]
    },
    {
      "cell_type": "code",
      "execution_count": null,
      "metadata": {
        "id": "n2mUseHoU3Dq"
      },
      "outputs": [],
      "source": []
    }
  ],
  "metadata": {
    "accelerator": "GPU",
    "colab": {
      "provenance": []
    },
    "gpuClass": "standard",
    "kernelspec": {
      "display_name": "Python 3",
      "name": "python3"
    },
    "language_info": {
      "name": "python"
    }
  },
  "nbformat": 4,
  "nbformat_minor": 0
}
